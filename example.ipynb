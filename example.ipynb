{
 "cells": [
  {
   "cell_type": "code",
   "execution_count": 1,
   "metadata": {
    "collapsed": true
   },
   "outputs": [],
   "source": [
    "import numpy as np\n",
    "import timeit\n",
    "import nonlinear_mass_faster as nlm\n",
    "import scipy.optimize as op\n",
    "from scipy.special import gamma\n",
    "import math\n",
    "\n",
    "\n",
    "# Load the power spectrum\n",
    "pk =  np.loadtxt('pklin/default.txt')\n",
    "\n",
    "# Load fiducial rnl\n",
    "rnl_fid = np.loadtxt('fiducial_rnl.txt')"
   ]
  },
  {
   "cell_type": "code",
   "execution_count": 2,
   "metadata": {
    "collapsed": true
   },
   "outputs": [],
   "source": [
    "# Specify your r-range\n",
    "rs = np.linspace(0,5,2e5+1) \n",
    "\n",
    "# Compute the correlation function\n",
    "cflinr = nlm.pk_to_xi(pk[:,0], pk[:,1], rs)\n",
    "interp_cf_lin = lambda x: np.interp(x, rs, cflinr)"
   ]
  },
  {
   "cell_type": "code",
   "execution_count": 3,
   "metadata": {
    "collapsed": true
   },
   "outputs": [],
   "source": [
    "# Cosmology and definition of threshold for sigma (usually taken to be\n",
    "# 1.686, the threshold for spherical collapse)\n",
    "om = 0.3096\n",
    "delta_c = 1.686\n",
    "\n",
    "# Redshift\n",
    "z=0\n",
    "Dz = nlm.growth_factor(z,om)"
   ]
  },
  {
   "cell_type": "code",
   "execution_count": 4,
   "metadata": {
    "collapsed": true
   },
   "outputs": [],
   "source": [
    "# Solve for RNL in the Taylor expansion about the fiducial Planck18 cosmology\n",
    "c0,c1,c2,c3 = nlm.get_poly_coeffs_taylor(0.3096, 0.04897, 0.9665, z)\n",
    "Rnl_Taylor = nlm.getR(c0,c1,c2,c3,delta_c,Dz)"
   ]
  },
  {
   "cell_type": "code",
   "execution_count": 5,
   "metadata": {
    "collapsed": true
   },
   "outputs": [],
   "source": [
    "# Solve for RNL by fitting for the polynomial coefficients\n",
    "c0,c1,c2,c3 = nlm.get_poly_coeffs(1.9*nlm.get_rnl_fid(z,rnl_fid), interp_cf_lin)\n",
    "Rnl_Fitting = nlm.getR(c0,c1,c2,c3,delta_c,Dz)"
   ]
  },
  {
   "cell_type": "code",
   "execution_count": null,
   "metadata": {
    "collapsed": true
   },
   "outputs": [],
   "source": []
  }
 ],
 "metadata": {
  "kernelspec": {
   "display_name": "Python [py35]",
   "language": "python",
   "name": "Python [py35]"
  },
  "language_info": {
   "codemirror_mode": {
    "name": "ipython",
    "version": 3
   },
   "file_extension": ".py",
   "mimetype": "text/x-python",
   "name": "python",
   "nbconvert_exporter": "python",
   "pygments_lexer": "ipython3",
   "version": "3.5.2"
  }
 },
 "nbformat": 4,
 "nbformat_minor": 0
}
